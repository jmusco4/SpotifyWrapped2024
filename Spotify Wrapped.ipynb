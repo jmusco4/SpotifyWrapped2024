{
 "cells":[
  {
   "cell_type":"markdown",
   "source":[
    "## 2024 Spotify Wrapped Analysis\n",
    "Author: Joe Muscolino\n",
    "\n",
    "Last Updated: 12\/30\/2024"
   ],
   "attachments":{},
   "metadata":{
    "datalore":{
     "node_id":"Op7XtaaEO5t6PMmK77bA7V",
     "type":"MD",
     "hide_input_from_viewers":true,
     "hide_output_from_viewers":true
    }
   }
  },
  {
   "cell_type":"code",
   "source":[
    "import pandas as pd\n",
    "import json \n",
    "from datetime import datetime\n",
    "import seaborn as sn\n",
    "\n",
    "# Open My Spotify Listening data\n",
    "music1 = pd.read_json(\"StreamingHistory_music_0.json\")\n",
    "music2 = pd.read_json(\"StreamingHistory_music_1.json\")\n",
    "music3 = pd.read_json(\"StreamingHistory_music_2.json\")\n",
    "frames = [music1, music2, music3]\n",
    "\n",
    "# Pull together various JSON files into one DataFrame\n",
    "music = pd.concat(frames)\n",
    "music.head(5)"
   ],
   "execution_count":1,
   "outputs":[
    {
     "data":{
      "text\/html":[
       "<div>\n",
       "<style scoped>\n",
       "    .dataframe tbody tr th:only-of-type {\n",
       "        vertical-align: middle;\n",
       "    }\n",
       "\n",
       "    .dataframe tbody tr th {\n",
       "        vertical-align: top;\n",
       "    }\n",
       "\n",
       "    .dataframe thead th {\n",
       "        text-align: right;\n",
       "    }\n",
       "<\/style>\n",
       "<table border=\"1\" class=\"dataframe\">\n",
       "  <thead>\n",
       "    <tr style=\"text-align: right;\">\n",
       "      <th><\/th>\n",
       "      <th>endTime<\/th>\n",
       "      <th>artistName<\/th>\n",
       "      <th>trackName<\/th>\n",
       "      <th>msPlayed<\/th>\n",
       "    <\/tr>\n",
       "  <\/thead>\n",
       "  <tbody>\n",
       "    <tr>\n",
       "      <th>0<\/th>\n",
       "      <td>2023-12-05 22:21<\/td>\n",
       "      <td>Sade<\/td>\n",
       "      <td>Paradise<\/td>\n",
       "      <td>85008<\/td>\n",
       "    <\/tr>\n",
       "    <tr>\n",
       "      <th>1<\/th>\n",
       "      <td>2023-12-06 00:08<\/td>\n",
       "      <td>Alice In Chains<\/td>\n",
       "      <td>Nutshell<\/td>\n",
       "      <td>77188<\/td>\n",
       "    <\/tr>\n",
       "    <tr>\n",
       "      <th>2<\/th>\n",
       "      <td>2023-12-06 00:16<\/td>\n",
       "      <td>Mitski<\/td>\n",
       "      <td>My Love Mine All Mine<\/td>\n",
       "      <td>137773<\/td>\n",
       "    <\/tr>\n",
       "    <tr>\n",
       "      <th>3<\/th>\n",
       "      <td>2023-12-06 00:19<\/td>\n",
       "      <td>TV Girl<\/td>\n",
       "      <td>Lovers Rock<\/td>\n",
       "      <td>213920<\/td>\n",
       "    <\/tr>\n",
       "    <tr>\n",
       "      <th>4<\/th>\n",
       "      <td>2023-12-06 00:22<\/td>\n",
       "      <td>Eslabon Armado<\/td>\n",
       "      <td>Ella Baila Sola<\/td>\n",
       "      <td>165671<\/td>\n",
       "    <\/tr>\n",
       "  <\/tbody>\n",
       "<\/table>\n",
       "<\/div>"
      ]
     },
     "metadata":{},
     "output_type":"display_data"
    }
   ],
   "metadata":{
    "datalore":{
     "node_id":"Opsof21RokAHfMoQIetcZZ",
     "type":"CODE",
     "hide_input_from_viewers":true,
     "hide_output_from_viewers":true
    }
   }
  },
  {
   "cell_type":"code",
   "source":[
    "# Open dataset of artists information found on Kaggle. \n",
    "# We will join this table with my Spotify listening data in order to pull in Artist genre's which aren't included in the Spotify dataset.\n",
    "artists_data_set = pd.read_csv(\"artists.csv\", dtype={\"tags_lastfm\":'string',\"country_lastfm\":'string',\"artist_lastfm\":'string',\n",
    "                                                     \"mbid\":'string', \"listeners_lastfm\":'string', \"scrobbles_lastfm\":'string'})\n",
    "# Using .info() we can view a brief summary of the dataset columns.\n",
    "artists_data_set.info()"
   ],
   "execution_count":3,
   "outputs":[
    {
     "name":"stdout",
     "text":[
      "<class 'pandas.core.frame.DataFrame'>\n",
      "RangeIndex: 1466083 entries, 0 to 1466082\n",
      "Data columns (total 10 columns):\n",
      " #   Column            Non-Null Count    Dtype \n",
      "---  ------            --------------    ----- \n",
      " 0   mbid              1466083 non-null  string\n",
      " 1   artist_mb         1466075 non-null  object\n",
      " 2   artist_lastfm     986756 non-null   string\n",
      " 3   country_mb        662368 non-null   object\n",
      " 4   country_lastfm    211498 non-null   string\n",
      " 5   tags_mb           119946 non-null   object\n",
      " 6   tags_lastfm       381075 non-null   string\n",
      " 7   listeners_lastfm  986760 non-null   string\n",
      " 8   scrobbles_lastfm  986760 non-null   string\n",
      " 9   ambiguous_artist  1466083 non-null  bool  \n",
      "dtypes: bool(1), object(3), string(6)\n",
      "memory usage: 102.1+ MB\n"
     ],
     "output_type":"stream"
    }
   ],
   "metadata":{
    "datalore":{
     "node_id":"WtSpQ8EvkWOptfTAIIAsEN",
     "type":"CODE",
     "hide_input_from_viewers":true,
     "hide_output_from_viewers":true
    }
   }
  },
  {
   "cell_type":"code",
   "source":[
    "# Before doing anything else, check to see if there are duplicate artists in the dataset. \n",
    "# If there are duplicates, we want to remove them to avoid any issues when we merge this DataFrame with the Spotify data.\n",
    "print(f'Total Artist Count: {len(artists_data_set[\"artist_mb\"])}\\nDistinct Artist Count: {len(artists_data_set[\"artist_mb\"].unique())}')"
   ],
   "execution_count":5,
   "outputs":[
    {
     "name":"stdout",
     "text":[
      "Total Artist Count: 1466083\n",
      "Distinct Artist Count: 1352997\n"
     ],
     "output_type":"stream"
    }
   ],
   "metadata":{
    "datalore":{
     "node_id":"lOxCEme5EZ9NEIDxwSmtU7",
     "type":"CODE",
     "hide_input_from_viewers":true,
     "hide_output_from_viewers":true
    }
   }
  },
  {
   "cell_type":"code",
   "source":[
    "# Since we found duplicates, drop duplicate artists and remove rows missing an artist name or artist tags.\n",
    "artists_data_set = artists_data_set.drop_duplicates(subset=\"artist_mb\")\n",
    "# Drop rows missing values\n",
    "artists_data_set.dropna(subset=\"artist_mb\", inplace=True)\n",
    "artists_data_set.dropna(subset=\"tags_lastfm\", inplace=True)\n",
    "# Create a copy of our original DataFrame which only contains the columns: artist_mb, tags_lastfm \n",
    "artists_info = artists_data_set[[\"artist_mb\",\"tags_lastfm\"]].copy()\n",
    "artists_info.info()"
   ],
   "execution_count":6,
   "outputs":[
    {
     "name":"stdout",
     "text":[
      "<class 'pandas.core.frame.DataFrame'>\n",
      "Int64Index: 354668 entries, 0 to 986758\n",
      "Data columns (total 2 columns):\n",
      " #   Column       Non-Null Count   Dtype \n",
      "---  ------       --------------   ----- \n",
      " 0   artist_mb    354668 non-null  object\n",
      " 1   tags_lastfm  354668 non-null  string\n",
      "dtypes: object(1), string(1)\n",
      "memory usage: 8.1+ MB\n"
     ],
     "output_type":"stream"
    }
   ],
   "metadata":{
    "datalore":{
     "node_id":"EsAzB1wpYFQ4ZlwWBkIHai",
     "type":"CODE",
     "hide_input_from_viewers":true,
     "hide_output_from_viewers":true
    }
   }
  },
  {
   "cell_type":"markdown",
   "source":[
    "### Merge DataFrames\n",
    "Now that we have the data we want, our next step will be to merge our two DataFrames together. Once merged, we will add a few additional columns \n",
    "that will help simplify our analysis later on. "
   ],
   "attachments":{},
   "metadata":{
    "datalore":{
     "node_id":"qEnD2FmToMVmMDKz6pdf90",
     "type":"MD",
     "hide_input_from_viewers":true,
     "hide_output_from_viewers":true
    }
   }
  },
  {
   "cell_type":"code",
   "source":[
    "# Merge artist and music tables\n",
    "music_w_genres = music.merge(artists_info, how='left', left_on=\"artistName\", right_on=\"artist_mb\")\n",
    "# Add columns for seconds, minutes, and hours of songs played\n",
    "music_w_genres[\"sPlayed\"] = music_w_genres[\"msPlayed\"] \/ 1000\n",
    "music_w_genres[\"minsPlayed\"] = round(music_w_genres[\"sPlayed\"] \/ 60,3)\n",
    "music_w_genres[\"hoursPlayed\"] = round(music_w_genres[\"minsPlayed\"] \/ 60, 3)\n",
    "# For any of the artists who didn't have a match when merging our DataFrames, replace the missing values in column tags_lastfm with None.\n",
    "music_w_genres[\"tags_lastfm\"].fillna(\"None\", inplace = True)\n",
    "music_w_genres.info()"
   ],
   "execution_count":7,
   "outputs":[
    {
     "name":"stdout",
     "text":[
      "<class 'pandas.core.frame.DataFrame'>\n",
      "Int64Index: 24408 entries, 0 to 24407\n",
      "Data columns (total 9 columns):\n",
      " #   Column       Non-Null Count  Dtype  \n",
      "---  ------       --------------  -----  \n",
      " 0   endTime      24408 non-null  object \n",
      " 1   artistName   24408 non-null  object \n",
      " 2   trackName    24408 non-null  object \n",
      " 3   msPlayed     24408 non-null  int64  \n",
      " 4   artist_mb    11168 non-null  object \n",
      " 5   tags_lastfm  24408 non-null  string \n",
      " 6   sPlayed      24408 non-null  float64\n",
      " 7   minsPlayed   24408 non-null  float64\n",
      " 8   hoursPlayed  24408 non-null  float64\n",
      "dtypes: float64(3), int64(1), object(4), string(1)\n",
      "memory usage: 1.9+ MB\n"
     ],
     "output_type":"stream"
    }
   ],
   "metadata":{
    "datalore":{
     "node_id":"V3uWFeRXSYdvLPkhQjBOmW",
     "type":"CODE",
     "hide_input_from_viewers":true,
     "hide_output_from_viewers":true
    }
   }
  },
  {
   "cell_type":"code",
   "source":[
    "# Next, I want to remove certain artists who I only listen to while I'm working. These artists comprise a large amount of my total listening time,\n",
    "# but are only played in the background while I work. It would be misleading to keep these artists in the analysis as they would appear as being my \n",
    "# top artists, when in reality they are not. \n",
    "classical_artists = [\"Ludwig van Beethoven\",\"Frédéric Chopin\",\"Samuel Barber\",\"Claude Debussy\",\"Antonín Dvořák\",\"dj poolboi\",\n",
    "                     \"Wolfgang Amadeus Mozart\",\"Carl Loewe\", \"Franz Liszt\",\"Johann Sebastian Bach\"]\n",
    "music_final = music_w_genres[~music_w_genres[\"artistName\"].isin(classical_artists)].copy()"
   ],
   "execution_count":8,
   "outputs":[],
   "metadata":{
    "datalore":{
     "node_id":"YvVvhjoWyzEaxIXO14jRmu",
     "type":"CODE",
     "hide_input_from_viewers":true,
     "hide_output_from_viewers":true
    }
   }
  },
  {
   "cell_type":"code",
   "source":[
    "# Lastly, we will add a new column called: genre. Currently, our column tags_lastfm contains a list of the various genres that our artists fall into.\n",
    "# Since many artists fall into multiple genres, each row contains multiple genre values, but for the sake of analyzing our data, we'd like a column containing their\n",
    "# primary genre. To do this, we will parse the column tags_lstfm and extract the first element in each list. \n",
    "\n",
    "genre_lis = []\n",
    "for tag in music_final[\"tags_lastfm\"]:\n",
    "    # Split the string value into a list of values.\n",
    "    tag = tag.split(\";\")\n",
    "    # Assign the genre value at Index 0 to a new variable.\n",
    "    genre = tag[0]\n",
    "    # Add the genre to our list.\n",
    "    genre_lis.append(genre)\n",
    "\n",
    "music_final[\"genre\"] = genre_lis.copy()\n",
    "music_final.head(15)"
   ],
   "execution_count":9,
   "outputs":[
    {
     "data":{
      "text\/html":[
       "<div>\n",
       "<style scoped>\n",
       "    .dataframe tbody tr th:only-of-type {\n",
       "        vertical-align: middle;\n",
       "    }\n",
       "\n",
       "    .dataframe tbody tr th {\n",
       "        vertical-align: top;\n",
       "    }\n",
       "\n",
       "    .dataframe thead th {\n",
       "        text-align: right;\n",
       "    }\n",
       "<\/style>\n",
       "<table border=\"1\" class=\"dataframe\">\n",
       "  <thead>\n",
       "    <tr style=\"text-align: right;\">\n",
       "      <th><\/th>\n",
       "      <th>endTime<\/th>\n",
       "      <th>artistName<\/th>\n",
       "      <th>trackName<\/th>\n",
       "      <th>msPlayed<\/th>\n",
       "      <th>artist_mb<\/th>\n",
       "      <th>tags_lastfm<\/th>\n",
       "      <th>sPlayed<\/th>\n",
       "      <th>minsPlayed<\/th>\n",
       "      <th>hoursPlayed<\/th>\n",
       "      <th>genre<\/th>\n",
       "    <\/tr>\n",
       "  <\/thead>\n",
       "  <tbody>\n",
       "    <tr>\n",
       "      <th>0<\/th>\n",
       "      <td>2023-12-05 22:21<\/td>\n",
       "      <td>Sade<\/td>\n",
       "      <td>Paradise<\/td>\n",
       "      <td>85008<\/td>\n",
       "      <td>Sade<\/td>\n",
       "      <td>soul; female vocalists; jazz; chillout; pop; S...<\/td>\n",
       "      <td>85.008<\/td>\n",
       "      <td>1.417<\/td>\n",
       "      <td>0.024<\/td>\n",
       "      <td>soul<\/td>\n",
       "    <\/tr>\n",
       "    <tr>\n",
       "      <th>1<\/th>\n",
       "      <td>2023-12-06 00:08<\/td>\n",
       "      <td>Alice In Chains<\/td>\n",
       "      <td>Nutshell<\/td>\n",
       "      <td>77188<\/td>\n",
       "      <td>NaN<\/td>\n",
       "      <td>None<\/td>\n",
       "      <td>77.188<\/td>\n",
       "      <td>1.286<\/td>\n",
       "      <td>0.021<\/td>\n",
       "      <td>None<\/td>\n",
       "    <\/tr>\n",
       "    <tr>\n",
       "      <th>2<\/th>\n",
       "      <td>2023-12-06 00:16<\/td>\n",
       "      <td>Mitski<\/td>\n",
       "      <td>My Love Mine All Mine<\/td>\n",
       "      <td>137773<\/td>\n",
       "      <td>Mitski<\/td>\n",
       "      <td>seen live; indie rock; indie; dream pop; indie...<\/td>\n",
       "      <td>137.773<\/td>\n",
       "      <td>2.296<\/td>\n",
       "      <td>0.038<\/td>\n",
       "      <td>seen live<\/td>\n",
       "    <\/tr>\n",
       "    <tr>\n",
       "      <th>3<\/th>\n",
       "      <td>2023-12-06 00:19<\/td>\n",
       "      <td>TV Girl<\/td>\n",
       "      <td>Lovers Rock<\/td>\n",
       "      <td>213920<\/td>\n",
       "      <td>TV Girl<\/td>\n",
       "      <td>Lo-Fi; indie; chillwave; indie pop; pop; san d...<\/td>\n",
       "      <td>213.920<\/td>\n",
       "      <td>3.565<\/td>\n",
       "      <td>0.059<\/td>\n",
       "      <td>Lo-Fi<\/td>\n",
       "    <\/tr>\n",
       "    <tr>\n",
       "      <th>4<\/th>\n",
       "      <td>2023-12-06 00:22<\/td>\n",
       "      <td>Eslabon Armado<\/td>\n",
       "      <td>Ella Baila Sola<\/td>\n",
       "      <td>165671<\/td>\n",
       "      <td>NaN<\/td>\n",
       "      <td>None<\/td>\n",
       "      <td>165.671<\/td>\n",
       "      <td>2.761<\/td>\n",
       "      <td>0.046<\/td>\n",
       "      <td>None<\/td>\n",
       "    <\/tr>\n",
       "    <tr>\n",
       "      <th>5<\/th>\n",
       "      <td>2023-12-06 00:27<\/td>\n",
       "      <td>Black Sabbath<\/td>\n",
       "      <td>Changes - 2013 Remaster<\/td>\n",
       "      <td>282497<\/td>\n",
       "      <td>Black Sabbath<\/td>\n",
       "      <td>heavy metal; hard rock; classic rock; metal; r...<\/td>\n",
       "      <td>282.497<\/td>\n",
       "      <td>4.708<\/td>\n",
       "      <td>0.078<\/td>\n",
       "      <td>heavy metal<\/td>\n",
       "    <\/tr>\n",
       "    <tr>\n",
       "      <th>6<\/th>\n",
       "      <td>2023-12-06 01:11<\/td>\n",
       "      <td>Cigarettes After Sex<\/td>\n",
       "      <td>K.<\/td>\n",
       "      <td>320030<\/td>\n",
       "      <td>Cigarettes After Sex<\/td>\n",
       "      <td>dream pop; shoegaze; seen live; slowcore; Lo-F...<\/td>\n",
       "      <td>320.030<\/td>\n",
       "      <td>5.334<\/td>\n",
       "      <td>0.089<\/td>\n",
       "      <td>dream pop<\/td>\n",
       "    <\/tr>\n",
       "    <tr>\n",
       "      <th>7<\/th>\n",
       "      <td>2023-12-06 01:14<\/td>\n",
       "      <td>Vacations<\/td>\n",
       "      <td>Young<\/td>\n",
       "      <td>189160<\/td>\n",
       "      <td>NaN<\/td>\n",
       "      <td>None<\/td>\n",
       "      <td>189.160<\/td>\n",
       "      <td>3.153<\/td>\n",
       "      <td>0.053<\/td>\n",
       "      <td>None<\/td>\n",
       "    <\/tr>\n",
       "    <tr>\n",
       "      <th>8<\/th>\n",
       "      <td>2023-12-06 01:16<\/td>\n",
       "      <td>Delaney Bailey<\/td>\n",
       "      <td>j's lullaby (darlin' i'd wait for you)<\/td>\n",
       "      <td>119824<\/td>\n",
       "      <td>NaN<\/td>\n",
       "      <td>None<\/td>\n",
       "      <td>119.824<\/td>\n",
       "      <td>1.997<\/td>\n",
       "      <td>0.033<\/td>\n",
       "      <td>None<\/td>\n",
       "    <\/tr>\n",
       "    <tr>\n",
       "      <th>9<\/th>\n",
       "      <td>2023-12-06 01:16<\/td>\n",
       "      <td>Steve Lacy<\/td>\n",
       "      <td>Bad Habit<\/td>\n",
       "      <td>1557<\/td>\n",
       "      <td>Steve Lacy<\/td>\n",
       "      <td>free jazz; jazz; saxophone; Avant-Garde Jazz; ...<\/td>\n",
       "      <td>1.557<\/td>\n",
       "      <td>0.026<\/td>\n",
       "      <td>0.000<\/td>\n",
       "      <td>free jazz<\/td>\n",
       "    <\/tr>\n",
       "    <tr>\n",
       "      <th>10<\/th>\n",
       "      <td>2023-12-06 01:19<\/td>\n",
       "      <td>EKKSTACY<\/td>\n",
       "      <td>i want to sleep for 1000 years<\/td>\n",
       "      <td>6857<\/td>\n",
       "      <td>NaN<\/td>\n",
       "      <td>None<\/td>\n",
       "      <td>6.857<\/td>\n",
       "      <td>0.114<\/td>\n",
       "      <td>0.002<\/td>\n",
       "      <td>None<\/td>\n",
       "    <\/tr>\n",
       "    <tr>\n",
       "      <th>11<\/th>\n",
       "      <td>2023-12-06 01:19<\/td>\n",
       "      <td>Bruno Major<\/td>\n",
       "      <td>Nothing<\/td>\n",
       "      <td>162797<\/td>\n",
       "      <td>Bruno Major<\/td>\n",
       "      <td>rnb; seen live; soul; british; alternative; ch...<\/td>\n",
       "      <td>162.797<\/td>\n",
       "      <td>2.713<\/td>\n",
       "      <td>0.045<\/td>\n",
       "      <td>rnb<\/td>\n",
       "    <\/tr>\n",
       "    <tr>\n",
       "      <th>12<\/th>\n",
       "      <td>2023-12-06 01:21<\/td>\n",
       "      <td>Vacations<\/td>\n",
       "      <td>Telephones<\/td>\n",
       "      <td>6506<\/td>\n",
       "      <td>NaN<\/td>\n",
       "      <td>None<\/td>\n",
       "      <td>6.506<\/td>\n",
       "      <td>0.108<\/td>\n",
       "      <td>0.002<\/td>\n",
       "      <td>None<\/td>\n",
       "    <\/tr>\n",
       "    <tr>\n",
       "      <th>13<\/th>\n",
       "      <td>2023-12-06 01:21<\/td>\n",
       "      <td>d4vd<\/td>\n",
       "      <td>Romantic Homicide<\/td>\n",
       "      <td>8213<\/td>\n",
       "      <td>NaN<\/td>\n",
       "      <td>None<\/td>\n",
       "      <td>8.213<\/td>\n",
       "      <td>0.137<\/td>\n",
       "      <td>0.002<\/td>\n",
       "      <td>None<\/td>\n",
       "    <\/tr>\n",
       "    <tr>\n",
       "      <th>15<\/th>\n",
       "      <td>2023-12-06 01:24<\/td>\n",
       "      <td>Mac DeMarco<\/td>\n",
       "      <td>My Kind of Woman<\/td>\n",
       "      <td>24229<\/td>\n",
       "      <td>Mac DeMarco<\/td>\n",
       "      <td>Lo-Fi; indie; seen live; experimental; post-pu...<\/td>\n",
       "      <td>24.229<\/td>\n",
       "      <td>0.404<\/td>\n",
       "      <td>0.007<\/td>\n",
       "      <td>Lo-Fi<\/td>\n",
       "    <\/tr>\n",
       "  <\/tbody>\n",
       "<\/table>\n",
       "<\/div>"
      ]
     },
     "metadata":{},
     "output_type":"display_data"
    }
   ],
   "metadata":{
    "datalore":{
     "node_id":"TFXhbRatsu4nuGQnJV81Dm",
     "type":"CODE",
     "hide_input_from_viewers":true,
     "hide_output_from_viewers":true
    }
   }
  },
  {
   "cell_type":"code",
   "source":[
    "# Export table to CSV for use within Tableau\n",
    "# music_final.to_csv(\"spotfiyListeningHistory_2.csv\")\n",
    "# music_final.head()"
   ],
   "execution_count":22,
   "outputs":[
    {
     "data":{
      "text\/html":[
       "<div>\n",
       "<style scoped>\n",
       "    .dataframe tbody tr th:only-of-type {\n",
       "        vertical-align: middle;\n",
       "    }\n",
       "\n",
       "    .dataframe tbody tr th {\n",
       "        vertical-align: top;\n",
       "    }\n",
       "\n",
       "    .dataframe thead th {\n",
       "        text-align: right;\n",
       "    }\n",
       "<\/style>\n",
       "<table border=\"1\" class=\"dataframe\">\n",
       "  <thead>\n",
       "    <tr style=\"text-align: right;\">\n",
       "      <th><\/th>\n",
       "      <th>endTime<\/th>\n",
       "      <th>artistName<\/th>\n",
       "      <th>trackName<\/th>\n",
       "      <th>msPlayed<\/th>\n",
       "      <th>artist_mb<\/th>\n",
       "      <th>tags_lastfm<\/th>\n",
       "      <th>sPlayed<\/th>\n",
       "      <th>minsPlayed<\/th>\n",
       "      <th>hoursPlayed<\/th>\n",
       "      <th>genre<\/th>\n",
       "    <\/tr>\n",
       "  <\/thead>\n",
       "  <tbody>\n",
       "    <tr>\n",
       "      <th>0<\/th>\n",
       "      <td>2023-12-05 22:21<\/td>\n",
       "      <td>Sade<\/td>\n",
       "      <td>Paradise<\/td>\n",
       "      <td>85008<\/td>\n",
       "      <td>Sade<\/td>\n",
       "      <td>soul; female vocalists; jazz; chillout; pop; S...<\/td>\n",
       "      <td>85.008<\/td>\n",
       "      <td>1.417<\/td>\n",
       "      <td>0.024<\/td>\n",
       "      <td>soul<\/td>\n",
       "    <\/tr>\n",
       "    <tr>\n",
       "      <th>1<\/th>\n",
       "      <td>2023-12-06 00:08<\/td>\n",
       "      <td>Alice In Chains<\/td>\n",
       "      <td>Nutshell<\/td>\n",
       "      <td>77188<\/td>\n",
       "      <td>NaN<\/td>\n",
       "      <td>None<\/td>\n",
       "      <td>77.188<\/td>\n",
       "      <td>1.286<\/td>\n",
       "      <td>0.021<\/td>\n",
       "      <td>None<\/td>\n",
       "    <\/tr>\n",
       "    <tr>\n",
       "      <th>2<\/th>\n",
       "      <td>2023-12-06 00:16<\/td>\n",
       "      <td>Mitski<\/td>\n",
       "      <td>My Love Mine All Mine<\/td>\n",
       "      <td>137773<\/td>\n",
       "      <td>Mitski<\/td>\n",
       "      <td>seen live; indie rock; indie; dream pop; indie...<\/td>\n",
       "      <td>137.773<\/td>\n",
       "      <td>2.296<\/td>\n",
       "      <td>0.038<\/td>\n",
       "      <td>seen live<\/td>\n",
       "    <\/tr>\n",
       "    <tr>\n",
       "      <th>3<\/th>\n",
       "      <td>2023-12-06 00:19<\/td>\n",
       "      <td>TV Girl<\/td>\n",
       "      <td>Lovers Rock<\/td>\n",
       "      <td>213920<\/td>\n",
       "      <td>TV Girl<\/td>\n",
       "      <td>Lo-Fi; indie; chillwave; indie pop; pop; san d...<\/td>\n",
       "      <td>213.920<\/td>\n",
       "      <td>3.565<\/td>\n",
       "      <td>0.059<\/td>\n",
       "      <td>Lo-Fi<\/td>\n",
       "    <\/tr>\n",
       "    <tr>\n",
       "      <th>4<\/th>\n",
       "      <td>2023-12-06 00:22<\/td>\n",
       "      <td>Eslabon Armado<\/td>\n",
       "      <td>Ella Baila Sola<\/td>\n",
       "      <td>165671<\/td>\n",
       "      <td>NaN<\/td>\n",
       "      <td>None<\/td>\n",
       "      <td>165.671<\/td>\n",
       "      <td>2.761<\/td>\n",
       "      <td>0.046<\/td>\n",
       "      <td>None<\/td>\n",
       "    <\/tr>\n",
       "  <\/tbody>\n",
       "<\/table>\n",
       "<\/div>"
      ]
     },
     "metadata":{},
     "output_type":"display_data"
    }
   ],
   "metadata":{
    "datalore":{
     "node_id":"u9C7m7EFgaQUxY5TEgmk4k",
     "type":"CODE",
     "hide_input_from_viewers":true,
     "hide_output_from_viewers":true
    }
   }
  },
  {
   "cell_type":"markdown",
   "source":[
    "## Data Visualizations\n",
    "Now that we have cleaned and modified our dataset to provide the desired data, we can begin to analyze and visualize the results."
   ],
   "attachments":{},
   "metadata":{
    "datalore":{
     "node_id":"9MtWZY4oVr4HJj4LOr28x4",
     "type":"MD",
     "hide_input_from_viewers":true,
     "hide_output_from_viewers":true
    }
   }
  },
  {
   "cell_type":"code",
   "source":[
    "from datetime import datetime\n",
    "import seaborn as sn\n",
    "\n",
    "# Group data by artist to find most listened to in terms of plays and minutes listened\n",
    "artist = music_final.groupby(\"artistName\").aggregate({'artistName':'count', 'minsPlayed':'sum'})\n",
    "\n",
    "artist.sort_values(by=\"minsPlayed\", ascending=False,inplace=True)\n",
    "print(f'Top Artist by minutes of listening: {artist[\"artistName\"].index[0]}')"
   ],
   "execution_count":10,
   "outputs":[
    {
     "name":"stdout",
     "text":[
      "Top Artist by minutes of listening: Lil Peep\n"
     ],
     "output_type":"stream"
    }
   ],
   "metadata":{
    "datalore":{
     "node_id":"QVL2pcw0ippfGIqkWlVqB8",
     "type":"CODE",
     "hide_input_from_viewers":true,
     "hide_output_from_viewers":true
    }
   }
  },
  {
   "cell_type":"code",
   "source":[
    "# Add avg amount of time listened \n",
    "artist[\"avgMinsPlayed\"] = round(artist[\"minsPlayed\"] \/ artist[\"artistName\"], 3)\n",
    "artist.head(10)"
   ],
   "execution_count":8,
   "outputs":[
    {
     "data":{
      "text\/html":[
       "<div>\n",
       "<style scoped>\n",
       "    .dataframe tbody tr th:only-of-type {\n",
       "        vertical-align: middle;\n",
       "    }\n",
       "\n",
       "    .dataframe tbody tr th {\n",
       "        vertical-align: top;\n",
       "    }\n",
       "\n",
       "    .dataframe thead th {\n",
       "        text-align: right;\n",
       "    }\n",
       "<\/style>\n",
       "<table border=\"1\" class=\"dataframe\">\n",
       "  <thead>\n",
       "    <tr style=\"text-align: right;\">\n",
       "      <th><\/th>\n",
       "      <th>artistName<\/th>\n",
       "      <th>minsPlayed<\/th>\n",
       "      <th>hoursPlayed<\/th>\n",
       "      <th>avgMinsPlayed<\/th>\n",
       "    <\/tr>\n",
       "    <tr>\n",
       "      <th>artistName<\/th>\n",
       "      <th><\/th>\n",
       "      <th><\/th>\n",
       "      <th><\/th>\n",
       "      <th><\/th>\n",
       "    <\/tr>\n",
       "  <\/thead>\n",
       "  <tbody>\n",
       "    <tr>\n",
       "      <th>Lil Peep<\/th>\n",
       "      <td>962<\/td>\n",
       "      <td>1366.1553<\/td>\n",
       "      <td>22.769<\/td>\n",
       "      <td>1.420<\/td>\n",
       "    <\/tr>\n",
       "    <tr>\n",
       "      <th>Swimming Paul<\/th>\n",
       "      <td>371<\/td>\n",
       "      <td>1200.9134<\/td>\n",
       "      <td>20.015<\/td>\n",
       "      <td>3.237<\/td>\n",
       "    <\/tr>\n",
       "    <tr>\n",
       "      <th>Oasis<\/th>\n",
       "      <td>348<\/td>\n",
       "      <td>1070.3092<\/td>\n",
       "      <td>17.838<\/td>\n",
       "      <td>3.076<\/td>\n",
       "    <\/tr>\n",
       "    <tr>\n",
       "      <th>blink-182<\/th>\n",
       "      <td>500<\/td>\n",
       "      <td>1049.6834<\/td>\n",
       "      <td>17.495<\/td>\n",
       "      <td>2.099<\/td>\n",
       "    <\/tr>\n",
       "    <tr>\n",
       "      <th>$uicideboy$<\/th>\n",
       "      <td>595<\/td>\n",
       "      <td>894.5698<\/td>\n",
       "      <td>14.909<\/td>\n",
       "      <td>1.503<\/td>\n",
       "    <\/tr>\n",
       "    <tr>\n",
       "      <th>Khruangbin<\/th>\n",
       "      <td>377<\/td>\n",
       "      <td>858.3696<\/td>\n",
       "      <td>14.306<\/td>\n",
       "      <td>2.277<\/td>\n",
       "    <\/tr>\n",
       "    <tr>\n",
       "      <th>Royel Otis<\/th>\n",
       "      <td>338<\/td>\n",
       "      <td>682.3957<\/td>\n",
       "      <td>11.373<\/td>\n",
       "      <td>2.019<\/td>\n",
       "    <\/tr>\n",
       "    <tr>\n",
       "      <th>Fred again..<\/th>\n",
       "      <td>265<\/td>\n",
       "      <td>572.0006<\/td>\n",
       "      <td>9.533<\/td>\n",
       "      <td>2.158<\/td>\n",
       "    <\/tr>\n",
       "    <tr>\n",
       "      <th>The Story So Far<\/th>\n",
       "      <td>314<\/td>\n",
       "      <td>565.1010<\/td>\n",
       "      <td>9.418<\/td>\n",
       "      <td>1.800<\/td>\n",
       "    <\/tr>\n",
       "    <tr>\n",
       "      <th>Cigarettes After Sex<\/th>\n",
       "      <td>230<\/td>\n",
       "      <td>554.3049<\/td>\n",
       "      <td>9.238<\/td>\n",
       "      <td>2.410<\/td>\n",
       "    <\/tr>\n",
       "    <tr>\n",
       "      <th>Sade<\/th>\n",
       "      <td>127<\/td>\n",
       "      <td>519.2552<\/td>\n",
       "      <td>8.654<\/td>\n",
       "      <td>4.089<\/td>\n",
       "    <\/tr>\n",
       "    <tr>\n",
       "      <th>Sergei Prokofiev<\/th>\n",
       "      <td>110<\/td>\n",
       "      <td>511.1691<\/td>\n",
       "      <td>8.519<\/td>\n",
       "      <td>4.647<\/td>\n",
       "    <\/tr>\n",
       "    <tr>\n",
       "      <th>Marty Robbins<\/th>\n",
       "      <td>175<\/td>\n",
       "      <td>509.1691<\/td>\n",
       "      <td>8.486<\/td>\n",
       "      <td>2.910<\/td>\n",
       "    <\/tr>\n",
       "    <tr>\n",
       "      <th>Future<\/th>\n",
       "      <td>273<\/td>\n",
       "      <td>495.6158<\/td>\n",
       "      <td>8.260<\/td>\n",
       "      <td>1.815<\/td>\n",
       "    <\/tr>\n",
       "    <tr>\n",
       "      <th>Elliott Smith<\/th>\n",
       "      <td>238<\/td>\n",
       "      <td>460.8194<\/td>\n",
       "      <td>7.680<\/td>\n",
       "      <td>1.936<\/td>\n",
       "    <\/tr>\n",
       "    <tr>\n",
       "      <th>Hermanos Gutiérrez<\/th>\n",
       "      <td>253<\/td>\n",
       "      <td>458.3650<\/td>\n",
       "      <td>7.639<\/td>\n",
       "      <td>1.812<\/td>\n",
       "    <\/tr>\n",
       "    <tr>\n",
       "      <th>Mazzy Star<\/th>\n",
       "      <td>192<\/td>\n",
       "      <td>404.0803<\/td>\n",
       "      <td>6.735<\/td>\n",
       "      <td>2.105<\/td>\n",
       "    <\/tr>\n",
       "    <tr>\n",
       "      <th>Adam Robert Ansley<\/th>\n",
       "      <td>180<\/td>\n",
       "      <td>387.1640<\/td>\n",
       "      <td>6.453<\/td>\n",
       "      <td>2.151<\/td>\n",
       "    <\/tr>\n",
       "    <tr>\n",
       "      <th>whenyoung<\/th>\n",
       "      <td>118<\/td>\n",
       "      <td>354.9175<\/td>\n",
       "      <td>5.915<\/td>\n",
       "      <td>3.008<\/td>\n",
       "    <\/tr>\n",
       "    <tr>\n",
       "      <th>Lana Del Rey<\/th>\n",
       "      <td>107<\/td>\n",
       "      <td>321.3851<\/td>\n",
       "      <td>5.356<\/td>\n",
       "      <td>3.004<\/td>\n",
       "    <\/tr>\n",
       "  <\/tbody>\n",
       "<\/table>\n",
       "<\/div>"
      ]
     },
     "metadata":{},
     "output_type":"display_data"
    }
   ],
   "metadata":{
    "datalore":{
     "node_id":"7oqcGJO08at9UWe1ta0AZu",
     "type":"CODE",
     "hide_input_from_viewers":true,
     "hide_output_from_viewers":true
    }
   }
  },
  {
   "cell_type":"code",
   "source":[
    "import matplotlib.pyplot as plt\n",
    "top_by_plays = artist[\"artistName\"].sort_values(ascending=False)\n",
    "\n",
    "top_10_artists_by_plays = top_by_plays[:10]\n",
    "\n",
    "plt.figure(figsize=(10,5))\n",
    "top_10_artists_by_plays.plot.bar(x=top_10_artists_by_plays.index,y='artistName')\n",
    "plt.show()"
   ],
   "execution_count":9,
   "outputs":[
    {
     "data":{
      "image\/png":"[encoded data removed]"
     },
     "metadata":{
      "image\/png":{}
     },
     "output_type":"display_data"
    }
   ],
   "metadata":{
    "datalore":{
     "node_id":"eRo6XSvrlLoaFzvVeeBIu8",
     "type":"CODE",
     "hide_input_from_viewers":true,
     "hide_output_from_viewers":true
    }
   }
  },
  {
   "cell_type":"code",
   "source":[
    "top_by_mins = artist[\"minsPlayed\"].sort_values(ascending=False)\n",
    "\n",
    "top_10_artists_by_mins = top_by_mins[:10]\n",
    "\n",
    "plt.figure(figsize=(10,5))\n",
    "top_10_artists_by_mins.plot.bar(x=top_10_artists_by_mins.index,y='minsPlayed')\n",
    "plt.show()"
   ],
   "execution_count":10,
   "outputs":[
    {
     "data":{
      "image\/png":"[encoded data removed]"
     },
     "metadata":{
      "image\/png":{}
     },
     "output_type":"display_data"
    }
   ],
   "metadata":{
    "datalore":{
     "node_id":"nAVs7ipVuUCXTBdL8N1ymC",
     "type":"CODE",
     "hide_input_from_viewers":true,
     "hide_output_from_viewers":true
    }
   }
  },
  {
   "cell_type":"markdown",
   "source":[
    "## Time series data"
   ],
   "attachments":{},
   "metadata":{
    "datalore":{
     "node_id":"jxGOHThw2q86ceOEbsqsZ9",
     "type":"MD",
     "hide_input_from_viewers":true,
     "hide_output_from_viewers":true
    }
   }
  },
  {
   "cell_type":"code",
   "source":[
    "time_series = music.copy()\n",
    "time_series[\"listeningDate\"] = pd.to_datetime(time_series[\"endTime\"]).dt.date\n",
    "time_series.head()"
   ],
   "execution_count":11,
   "outputs":[
    {
     "data":{
      "text\/html":[
       "<div>\n",
       "<style scoped>\n",
       "    .dataframe tbody tr th:only-of-type {\n",
       "        vertical-align: middle;\n",
       "    }\n",
       "\n",
       "    .dataframe tbody tr th {\n",
       "        vertical-align: top;\n",
       "    }\n",
       "\n",
       "    .dataframe thead th {\n",
       "        text-align: right;\n",
       "    }\n",
       "<\/style>\n",
       "<table border=\"1\" class=\"dataframe\">\n",
       "  <thead>\n",
       "    <tr style=\"text-align: right;\">\n",
       "      <th><\/th>\n",
       "      <th>endTime<\/th>\n",
       "      <th>artistName<\/th>\n",
       "      <th>trackName<\/th>\n",
       "      <th>msPlayed<\/th>\n",
       "      <th>sPlayed<\/th>\n",
       "      <th>minsPlayed<\/th>\n",
       "      <th>listeningDate<\/th>\n",
       "    <\/tr>\n",
       "  <\/thead>\n",
       "  <tbody>\n",
       "    <tr>\n",
       "      <th>0<\/th>\n",
       "      <td>2023-12-05 22:21<\/td>\n",
       "      <td>Sade<\/td>\n",
       "      <td>Paradise<\/td>\n",
       "      <td>85008<\/td>\n",
       "      <td>85.008<\/td>\n",
       "      <td>1.4168<\/td>\n",
       "      <td>2023-12-05<\/td>\n",
       "    <\/tr>\n",
       "    <tr>\n",
       "      <th>1<\/th>\n",
       "      <td>2023-12-06 00:08<\/td>\n",
       "      <td>Alice In Chains<\/td>\n",
       "      <td>Nutshell<\/td>\n",
       "      <td>77188<\/td>\n",
       "      <td>77.188<\/td>\n",
       "      <td>1.2865<\/td>\n",
       "      <td>2023-12-06<\/td>\n",
       "    <\/tr>\n",
       "    <tr>\n",
       "      <th>2<\/th>\n",
       "      <td>2023-12-06 00:16<\/td>\n",
       "      <td>Mitski<\/td>\n",
       "      <td>My Love Mine All Mine<\/td>\n",
       "      <td>137773<\/td>\n",
       "      <td>137.773<\/td>\n",
       "      <td>2.2962<\/td>\n",
       "      <td>2023-12-06<\/td>\n",
       "    <\/tr>\n",
       "    <tr>\n",
       "      <th>3<\/th>\n",
       "      <td>2023-12-06 00:19<\/td>\n",
       "      <td>TV Girl<\/td>\n",
       "      <td>Lovers Rock<\/td>\n",
       "      <td>213920<\/td>\n",
       "      <td>213.920<\/td>\n",
       "      <td>3.5653<\/td>\n",
       "      <td>2023-12-06<\/td>\n",
       "    <\/tr>\n",
       "    <tr>\n",
       "      <th>4<\/th>\n",
       "      <td>2023-12-06 00:22<\/td>\n",
       "      <td>Eslabon Armado<\/td>\n",
       "      <td>Ella Baila Sola<\/td>\n",
       "      <td>165671<\/td>\n",
       "      <td>165.671<\/td>\n",
       "      <td>2.7612<\/td>\n",
       "      <td>2023-12-06<\/td>\n",
       "    <\/tr>\n",
       "  <\/tbody>\n",
       "<\/table>\n",
       "<\/div>"
      ]
     },
     "metadata":{},
     "output_type":"display_data"
    }
   ],
   "metadata":{
    "datalore":{
     "node_id":"ggKghjvXmxsGGDZFTEWE4c",
     "type":"CODE",
     "hide_input_from_viewers":true,
     "hide_output_from_viewers":true
    }
   }
  },
  {
   "cell_type":"code",
   "source":[
    "time_series.sort_values(by=\"listeningDate\", inplace=True)\n",
    "count_listening_dates = time_series[\"listeningDate\"].value_counts().sort_index(ascending=True)\n",
    "count_listening_dates\n",
    "\n",
    "plt.figure(figsize=(10,5))\n",
    "plt.plot(count_listening_dates)\n",
    "plt.gcf().autofmt_xdate()\n",
    "plt.rcParams.update({'font.size': 14})\n",
    "plt.show()"
   ],
   "execution_count":12,
   "outputs":[
    {
     "data":{
      "image\/png":"[encoded data removed]"
     },
     "metadata":{
      "image\/png":{}
     },
     "output_type":"display_data"
    }
   ],
   "metadata":{
    "datalore":{
     "node_id":"CMr8Jcmgan1eW5WMI56R4F",
     "type":"CODE",
     "hide_input_from_viewers":true,
     "hide_output_from_viewers":true
    }
   }
  },
  {
   "cell_type":"code",
   "source":[
    "time_series[\"endTime\"] = pd.to_datetime(time_series[\"endTime\"])\n",
    "time_series[\"month_dt\"] = time_series[\"endTime\"].dt.month\n",
    "time_series[\"month_strftime\"] = time_series[\"endTime\"].dt.strftime('%b')\n",
    "time_series.head()"
   ],
   "execution_count":13,
   "outputs":[
    {
     "data":{
      "text\/html":[
       "<div>\n",
       "<style scoped>\n",
       "    .dataframe tbody tr th:only-of-type {\n",
       "        vertical-align: middle;\n",
       "    }\n",
       "\n",
       "    .dataframe tbody tr th {\n",
       "        vertical-align: top;\n",
       "    }\n",
       "\n",
       "    .dataframe thead th {\n",
       "        text-align: right;\n",
       "    }\n",
       "<\/style>\n",
       "<table border=\"1\" class=\"dataframe\">\n",
       "  <thead>\n",
       "    <tr style=\"text-align: right;\">\n",
       "      <th><\/th>\n",
       "      <th>endTime<\/th>\n",
       "      <th>artistName<\/th>\n",
       "      <th>trackName<\/th>\n",
       "      <th>msPlayed<\/th>\n",
       "      <th>sPlayed<\/th>\n",
       "      <th>minsPlayed<\/th>\n",
       "      <th>listeningDate<\/th>\n",
       "      <th>month_dt<\/th>\n",
       "      <th>month_strftime<\/th>\n",
       "    <\/tr>\n",
       "  <\/thead>\n",
       "  <tbody>\n",
       "    <tr>\n",
       "      <th>0<\/th>\n",
       "      <td>2023-12-05 22:21:00<\/td>\n",
       "      <td>Sade<\/td>\n",
       "      <td>Paradise<\/td>\n",
       "      <td>85008<\/td>\n",
       "      <td>85.008<\/td>\n",
       "      <td>1.4168<\/td>\n",
       "      <td>2023-12-05<\/td>\n",
       "      <td>12<\/td>\n",
       "      <td>Dec<\/td>\n",
       "    <\/tr>\n",
       "    <tr>\n",
       "      <th>22<\/th>\n",
       "      <td>2023-12-06 18:42:00<\/td>\n",
       "      <td>Claude Debussy<\/td>\n",
       "      <td>Clair de Lune, L. 32<\/td>\n",
       "      <td>1136<\/td>\n",
       "      <td>1.136<\/td>\n",
       "      <td>0.0189<\/td>\n",
       "      <td>2023-12-06<\/td>\n",
       "      <td>12<\/td>\n",
       "      <td>Dec<\/td>\n",
       "    <\/tr>\n",
       "    <tr>\n",
       "      <th>23<\/th>\n",
       "      <td>2023-12-06 19:15:00<\/td>\n",
       "      <td>TV Girl<\/td>\n",
       "      <td>Lovers Rock<\/td>\n",
       "      <td>213920<\/td>\n",
       "      <td>213.920<\/td>\n",
       "      <td>3.5653<\/td>\n",
       "      <td>2023-12-06<\/td>\n",
       "      <td>12<\/td>\n",
       "      <td>Dec<\/td>\n",
       "    <\/tr>\n",
       "    <tr>\n",
       "      <th>24<\/th>\n",
       "      <td>2023-12-06 20:35:00<\/td>\n",
       "      <td>Sade<\/td>\n",
       "      <td>Paradise<\/td>\n",
       "      <td>132436<\/td>\n",
       "      <td>132.436<\/td>\n",
       "      <td>2.2073<\/td>\n",
       "      <td>2023-12-06<\/td>\n",
       "      <td>12<\/td>\n",
       "      <td>Dec<\/td>\n",
       "    <\/tr>\n",
       "    <tr>\n",
       "      <th>25<\/th>\n",
       "      <td>2023-12-06 20:39:00<\/td>\n",
       "      <td>Sade<\/td>\n",
       "      <td>Nothing Can Come Between Us<\/td>\n",
       "      <td>234666<\/td>\n",
       "      <td>234.666<\/td>\n",
       "      <td>3.9111<\/td>\n",
       "      <td>2023-12-06<\/td>\n",
       "      <td>12<\/td>\n",
       "      <td>Dec<\/td>\n",
       "    <\/tr>\n",
       "  <\/tbody>\n",
       "<\/table>\n",
       "<\/div>"
      ]
     },
     "metadata":{},
     "output_type":"display_data"
    }
   ],
   "metadata":{
    "datalore":{
     "node_id":"OoVeubCJjbuwErNgVl81mx",
     "type":"CODE",
     "hide_input_from_viewers":true,
     "hide_output_from_viewers":true
    }
   }
  },
  {
   "cell_type":"code",
   "source":[
    "# Group minutes played by Month\n",
    "mins_by_month = time_series.groupby(\"month_dt\").aggregate({'minsPlayed':'sum'})\n",
    "mins_by_month.sort_index(ascending=True, inplace=True)\n",
    "mins_by_month\n",
    "plt.figure(figsize=(10,5))\n",
    "mins_by_month.plot.bar()\n",
    "plt.show()"
   ],
   "execution_count":14,
   "outputs":[
    {
     "data":{
      "text\/plain":[
       "<Figure size 720x360 with 0 Axes>"
      ]
     },
     "metadata":{},
     "output_type":"display_data"
    },
    {
     "data":{
      "image\/png":"[encoded data removed]"
     },
     "metadata":{
      "image\/png":{}
     },
     "output_type":"display_data"
    }
   ],
   "metadata":{
    "datalore":{
     "node_id":"gKER0jV5v3CYWu55Q6zD8h",
     "type":"CODE",
     "hide_input_from_viewers":true,
     "hide_output_from_viewers":true
    }
   }
  }
 ],
 "metadata":{
  "kernelspec":{
   "display_name":"Python",
   "language":"python",
   "name":"python"
  },
  "datalore":{
   "computation_mode":"JUPYTER",
   "package_manager":"pip",
   "base_environment":"default",
   "packages":[
    {
     "name":"kaggle",
     "version":"1.6.17",
     "source":"PIP"
    }
   ],
   "report_row_ids":[],
   "version":3
  }
 },
 "nbformat":4,
 "nbformat_minor":4
}